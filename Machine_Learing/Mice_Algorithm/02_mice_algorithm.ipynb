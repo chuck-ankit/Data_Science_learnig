{
 "cells": [
  {
   "cell_type": "markdown",
   "metadata": {},
   "source": [
    "MICS stands for Multivariate Imputation by Chained Equation\n",
    "\n",
    "\n",
    "Assumptions \n",
    "1. MCAR(Missing Completely at Random)\n",
    "2. MAR(Missing at Random)\n",
    "3. MNAR(Missing not at Random )\n",
    "\n",
    "\n",
    "MICE is mainly used at missing at random datasets.\n",
    "Advantages : - Accurate \n",
    "Disadvantages : - Slow and Memory"
   ]
  },
  {
   "cell_type": "markdown",
   "metadata": {
    "vscode": {
     "languageId": "plaintext"
    }
   },
   "source": [
    "The MICE algorithm, short for \"Multiple Imputation by Chained Equations,\" is a method used for imputing missing values in a dataset through iterative regression modeling. Here's a brief outline of its steps:\n",
    "\n",
    "Initialization: Start with a dataset containing missing values.\n",
    "\n",
    "Imputation Rounds: Repeat a series of imputation steps until convergence:\n",
    "\n",
    "Step 1 (Sequential Imputation):\n",
    "For each variable with missing values, impute those missing values using regression models based on observed values of other variables.\n",
    "Step 2 (Update):\n",
    "Update the imputed values.\n",
    "Step 3 (Repeat):\n",
    "Repeat steps 1 and 2 until convergence (no significant change in imputed values).\n",
    "Convergence: Stop when the imputed values stabilize or after a predetermined number of iterations.\n",
    "\n",
    "Output: Return the dataset with imputed missing values.\n",
    "\n",
    "This process allows for more accurate imputation by taking into account the relationships between variables while handling missing data."
   ]
  },
  {
   "cell_type": "markdown",
   "metadata": {},
   "source": [
    "<h3>IterativeImputer</h3>\n",
    "\n",
    "The \"IterativeImputer\" is a class in scikit-learn that implements the MICE (Multiple Imputation by Chained Equations) algorithm for imputing missing values in datasets. It iteratively estimates the missing values using regression models, incorporating information from other features in the dataset."
   ]
  },
  {
   "cell_type": "code",
   "execution_count": 15,
   "metadata": {},
   "outputs": [],
   "source": [
    "import pandas as pd\n",
    "import numpy as np\n",
    "from sklearn.experimental import enable_iterative_imputer\n",
    "from sklearn.impute import IterativeImputer\n",
    "from sklearn.linear_model import LinearRegression\n",
    "\n",
    "# Create a sample dataset with missing values\n",
    "data = {\n",
    "    'age': [25, 35, np.nan, 45, 30, np.nan, 40, 55],\n",
    "    'income': [50000, np.nan, 60000, np.nan, 70000, 80000, np.nan, 90000],\n",
    "    'education': ['Bachelor', 'Master', 'PhD', np.nan, 'Master', 'Bachelor', np.nan, 'PhD']\n",
    "}\n",
    "\n",
    "df = pd.DataFrame(data)\n"
   ]
  },
  {
   "cell_type": "code",
   "execution_count": 16,
   "metadata": {},
   "outputs": [
    {
     "name": "stdout",
     "output_type": "stream",
     "text": [
      "         age        income  education\n",
      "0  25.000000  50000.000000        0.0\n",
      "1  35.000000  68051.101334        1.0\n",
      "2  29.142931  60000.000000        2.0\n",
      "3  45.000000  80987.102651        3.0\n",
      "4  30.000000  70000.000000        1.0\n",
      "5  44.125405  80000.000000        0.0\n",
      "6  40.000000  75094.445888        3.0\n",
      "7  55.000000  90000.000000        2.0\n"
     ]
    },
    {
     "name": "stderr",
     "output_type": "stream",
     "text": [
      "c:\\ProgramData\\anaconda3\\envs\\tf\\lib\\site-packages\\sklearn\\impute\\_iterative.py:701: ConvergenceWarning: [IterativeImputer] Early stopping criterion not reached.\n",
      "  ConvergenceWarning,\n"
     ]
    }
   ],
   "source": [
    "from sklearn.preprocessing import LabelEncoder\n",
    "\n",
    "# Apply label encoding to the 'education' column\n",
    "label_encoder = LabelEncoder()\n",
    "encoded_education = label_encoder.fit_transform(df['education'].astype(str)) # Ensure data type is string\n",
    "\n",
    "# Replace the 'education' column with the encoded values\n",
    "df['education'] = encoded_education\n",
    "\n",
    "# Now, use the IterativeImputer with linear regression\n",
    "mice_imputer = IterativeImputer(estimator=LinearRegression())\n",
    "\n",
    "# Fit and transform the dataset\n",
    "imputed_data = mice_imputer.fit_transform(df)\n",
    "\n",
    "# Convert the imputed array back to a DataFrame\n",
    "imputed_df = pd.DataFrame(imputed_data, columns=df.columns)\n",
    "\n",
    "print(imputed_df)\n"
   ]
  },
  {
   "cell_type": "code",
   "execution_count": 19,
   "metadata": {},
   "outputs": [],
   "source": [
    "# Initialize the MICE imputer\n",
    "mice_imputer = IterativeImputer()\n",
    "\n",
    "# Fit and transform the dataset\n",
    "imputed_data = mice_imputer.fit_transform(imputed_df)\n",
    "\n",
    "\n"
   ]
  },
  {
   "cell_type": "code",
   "execution_count": 20,
   "metadata": {},
   "outputs": [
    {
     "data": {
      "text/plain": [
       "age          2\n",
       "income       3\n",
       "education    0\n",
       "dtype: int64"
      ]
     },
     "execution_count": 20,
     "metadata": {},
     "output_type": "execute_result"
    }
   ],
   "source": [
    "df.isna().sum()\n",
    "df.isnull().sum()\n"
   ]
  },
  {
   "cell_type": "code",
   "execution_count": 21,
   "metadata": {},
   "outputs": [
    {
     "name": "stdout",
     "output_type": "stream",
     "text": [
      "         age        income  education\n",
      "0  25.000000  50000.000000        0.0\n",
      "1  35.000000  68051.101334        1.0\n",
      "2  29.142931  60000.000000        2.0\n",
      "3  45.000000  80987.102651        3.0\n",
      "4  30.000000  70000.000000        1.0\n",
      "5  44.125405  80000.000000        0.0\n",
      "6  40.000000  75094.445888        3.0\n",
      "7  55.000000  90000.000000        2.0\n"
     ]
    }
   ],
   "source": [
    "mice_imputer = IterativeImputer(estimator=LinearRegression())\n",
    "\n",
    "# Fit and transform the dataset\n",
    "imputed_data = mice_imputer.fit_transform(imputed_df)\n",
    "\n",
    "# Convert the imputed array back to a DataFrame\n",
    "imputed_df = pd.DataFrame(imputed_data, columns=df.columns)\n",
    "\n",
    "print(imputed_df)"
   ]
  },
  {
   "cell_type": "code",
   "execution_count": 23,
   "metadata": {},
   "outputs": [
    {
     "data": {
      "text/plain": [
       "age          0\n",
       "income       0\n",
       "education    0\n",
       "dtype: int64"
      ]
     },
     "execution_count": 23,
     "metadata": {},
     "output_type": "execute_result"
    }
   ],
   "source": [
    "imputed_df.isna().sum()\n",
    "imputed_df.isnull().sum()"
   ]
  },
  {
   "cell_type": "code",
   "execution_count": null,
   "metadata": {},
   "outputs": [],
   "source": []
  }
 ],
 "metadata": {
  "kernelspec": {
   "display_name": "Python (tf)",
   "language": "python",
   "name": "tf"
  },
  "language_info": {
   "codemirror_mode": {
    "name": "ipython",
    "version": 3
   },
   "file_extension": ".py",
   "mimetype": "text/x-python",
   "name": "python",
   "nbconvert_exporter": "python",
   "pygments_lexer": "ipython3",
   "version": "3.7.16"
  }
 },
 "nbformat": 4,
 "nbformat_minor": 2
}
