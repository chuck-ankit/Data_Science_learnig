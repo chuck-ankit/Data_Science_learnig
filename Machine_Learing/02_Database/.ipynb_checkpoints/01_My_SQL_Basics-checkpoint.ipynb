{
 "cells": [
  {
   "cell_type": "code",
   "execution_count": 1,
   "id": "99f6b247-b861-4413-bd7e-150cb349ce11",
   "metadata": {
    "scrolled": true
   },
   "outputs": [
    {
     "name": "stdout",
     "output_type": "stream",
     "text": [
      "# conda environments:\n",
      "#\n",
      "base                     C:\\ProgramData\\anaconda3\n",
      "Bansal                   C:\\ProgramData\\anaconda3\\envs\\Bansal\n",
      "SuperEnv                 C:\\ProgramData\\anaconda3\\envs\\SuperEnv\n",
      "database              *  C:\\ProgramData\\anaconda3\\envs\\database\n",
      "nameZa                   C:\\ProgramData\\anaconda3\\envs\\nameZa\n",
      "tf                       C:\\ProgramData\\anaconda3\\envs\\tf\n",
      "database                 c:\\ProgramData\\anaconda3\\envs\\database\n",
      "nameZa                   c:\\ProgramData\\anaconda3\\envs\\nameZa\n",
      "\n"
     ]
    }
   ],
   "source": [
    "!conda info --envs"
   ]
  },
  {
   "cell_type": "markdown",
   "id": "e04c42f7-86bb-45b9-a4b9-9b3597e66745",
   "metadata": {},
   "source": [
    "<b> Creating Databases in SQL"
   ]
  },
  {
   "cell_type": "code",
   "execution_count": 2,
   "id": "5b4b5de0-5ea6-4c35-b193-4350495864db",
   "metadata": {},
   "outputs": [
    {
     "name": "stdout",
     "output_type": "stream",
     "text": [
      "<mysql.connector.connection_cext.CMySQLConnection object at 0x000001C21A57D6D0>\n"
     ]
    }
   ],
   "source": [
    "#### Create MySQL Connections\n",
    "\n",
    "import mysql.connector as sql\n",
    "\n",
    "connection = sql.connect(\n",
    "    host = \"localhost\",\n",
    "    user = \"ankit\",\n",
    "    password = \"12345\"\n",
    ")\n",
    "print(connection)"
   ]
  },
  {
   "cell_type": "markdown",
   "id": "c01ff570-dd5b-4174-84ae-238ba4080494",
   "metadata": {},
   "source": [
    "<b> Creating Database"
   ]
  },
  {
   "cell_type": "code",
   "execution_count": 3,
   "id": "81989e6d-ca02-41e8-86ac-e8c177a45939",
   "metadata": {},
   "outputs": [],
   "source": [
    "cursor = connection.cursor()\n",
    "\n",
    "# cursor.execute(\"CREATE DATABASE NewServer\")"
   ]
  },
  {
   "cell_type": "code",
   "execution_count": 4,
   "id": "dea8fee1-7ec5-4025-84fa-a70db4216d57",
   "metadata": {},
   "outputs": [],
   "source": [
    "cursor.execute(\"SHOW DATABASES\")"
   ]
  },
  {
   "cell_type": "code",
   "execution_count": 5,
   "id": "e49c007f-add8-4031-8492-5b9817526865",
   "metadata": {},
   "outputs": [
    {
     "name": "stdout",
     "output_type": "stream",
     "text": [
      "('advaid',)\n",
      "('information_schema',)\n",
      "('mysql',)\n",
      "('newserver',)\n",
      "('performance_schema',)\n",
      "('sakila',)\n",
      "('sys',)\n",
      "('world',)\n"
     ]
    }
   ],
   "source": [
    "for x in cursor:\n",
    "    print(x)"
   ]
  },
  {
   "cell_type": "markdown",
   "id": "f9059355-1ef9-427e-b8ae-2fc4b0e657a3",
   "metadata": {},
   "source": [
    "<b> Connecting Jupyter Notebook to a database"
   ]
  },
  {
   "cell_type": "code",
   "execution_count": 7,
   "id": "f6bc0ca9-cc9f-4817-9c1d-2ed01cc52d4a",
   "metadata": {},
   "outputs": [
    {
     "name": "stdout",
     "output_type": "stream",
     "text": [
      "<mysql.connector.connection_cext.CMySQLConnection object at 0x000001C21A48A4B0>\n"
     ]
    }
   ],
   "source": [
    "connection = sql.connect(\n",
    "    host = \"localhost\",\n",
    "    user = \"ankit\",\n",
    "    password = \"12345\",\n",
    "    database = \"NewServer\"\n",
    ")\n",
    "print(connection)"
   ]
  },
  {
   "cell_type": "markdown",
   "id": "417cac47-37d2-44c7-991d-d0b76d97008e",
   "metadata": {},
   "source": [
    "<b>Creating Table in MySQL"
   ]
  },
  {
   "cell_type": "code",
   "execution_count": 9,
   "id": "ee1b92ca-7efb-4dd5-99e8-626618e10682",
   "metadata": {},
   "outputs": [],
   "source": [
    "cursor = connection.cursor()\n",
    "\n",
    "cursor.execute(\"CREATE TABLE studentinfo (id INT AUTO_INCREMENT PRIMARY KEY, name VARCHAR(255), subject VARCHAR(255))\")\n"
   ]
  },
  {
   "cell_type": "code",
   "execution_count": 10,
   "id": "31a93a1d-752b-4720-bc9d-1410d58712ed",
   "metadata": {},
   "outputs": [
    {
     "name": "stdout",
     "output_type": "stream",
     "text": [
      "Row inserterd 1\n"
     ]
    }
   ],
   "source": [
    "query = \"INSERT INTO studentinfo (name, subject) VALUES(%s, %s)\"\n",
    "value = (\"Chirag\", \"Stats\")\n",
    "cursor.execute(query, value)\n",
    "print(\"Row inserterd\", cursor.lastrowid)"
   ]
  },
  {
   "cell_type": "code",
   "execution_count": 11,
   "id": "6a09ff7c-c749-4e9f-b42c-59008f9e0779",
   "metadata": {},
   "outputs": [
    {
     "ename": "InterfaceError",
     "evalue": "Failed executing the operation; Could not process parameters: str(Chirag), it must be of type list, tuple or dict",
     "output_type": "error",
     "traceback": [
      "\u001b[1;31m---------------------------------------------------------------------------\u001b[0m",
      "\u001b[1;31mInterfaceError\u001b[0m                            Traceback (most recent call last)",
      "Cell \u001b[1;32mIn[11], line 7\u001b[0m\n\u001b[0;32m      1\u001b[0m query \u001b[38;5;241m=\u001b[39m \u001b[38;5;124m\"\u001b[39m\u001b[38;5;124mINSERT INTO studentinfo (name, subject) VALUES(\u001b[39m\u001b[38;5;132;01m%s\u001b[39;00m\u001b[38;5;124m, \u001b[39m\u001b[38;5;132;01m%s\u001b[39;00m\u001b[38;5;124m)\u001b[39m\u001b[38;5;124m\"\u001b[39m\n\u001b[0;32m      2\u001b[0m values \u001b[38;5;241m=\u001b[39m [(\u001b[38;5;124m\"\u001b[39m\u001b[38;5;124mJohn\u001b[39m\u001b[38;5;124m\"\u001b[39m, \u001b[38;5;124m\"\u001b[39m\u001b[38;5;124mStats\u001b[39m\u001b[38;5;124m\"\u001b[39m),\n\u001b[0;32m      3\u001b[0m           (\u001b[38;5;124m\"\u001b[39m\u001b[38;5;124mAnagh\u001b[39m\u001b[38;5;124m\"\u001b[39m, \u001b[38;5;124m\"\u001b[39m\u001b[38;5;124mPhysics\u001b[39m\u001b[38;5;124m\"\u001b[39m),\n\u001b[0;32m      4\u001b[0m           (\u001b[38;5;124m\"\u001b[39m\u001b[38;5;124mPriyanshu\u001b[39m\u001b[38;5;124m\"\u001b[39m,\u001b[38;5;124m\"\u001b[39m\u001b[38;5;124mCalculas\u001b[39m\u001b[38;5;124m\"\u001b[39m),\n\u001b[0;32m      5\u001b[0m           (\u001b[38;5;124m\"\u001b[39m\u001b[38;5;124mShubham\u001b[39m\u001b[38;5;124m\"\u001b[39m, \u001b[38;5;124m\"\u001b[39m\u001b[38;5;124mEnglish\u001b[39m\u001b[38;5;124m\"\u001b[39m)]\n\u001b[1;32m----> 7\u001b[0m \u001b[43mcursor\u001b[49m\u001b[38;5;241;43m.\u001b[39;49m\u001b[43mexecutemany\u001b[49m\u001b[43m(\u001b[49m\u001b[43mquery\u001b[49m\u001b[43m,\u001b[49m\u001b[43m \u001b[49m\u001b[43mvalue\u001b[49m\u001b[43m)\u001b[49m\n\u001b[0;32m      8\u001b[0m \u001b[38;5;28mprint\u001b[39m(\u001b[38;5;124m\"\u001b[39m\u001b[38;5;124mRow Inserted\u001b[39m\u001b[38;5;124m\"\u001b[39m, cursor\u001b[38;5;241m.\u001b[39mlastword)\n",
      "File \u001b[1;32mc:\\ProgramData\\anaconda3\\envs\\database\\Lib\\site-packages\\mysql\\connector\\cursor_cext.py:498\u001b[0m, in \u001b[0;36mCMySQLCursor.executemany\u001b[1;34m(self, operation, seq_params)\u001b[0m\n\u001b[0;32m    496\u001b[0m     \u001b[38;5;28mself\u001b[39m\u001b[38;5;241m.\u001b[39m_rowcount \u001b[38;5;241m=\u001b[39m \u001b[38;5;241m0\u001b[39m\n\u001b[0;32m    497\u001b[0m     \u001b[38;5;28;01mreturn\u001b[39;00m \u001b[38;5;28;01mNone\u001b[39;00m\n\u001b[1;32m--> 498\u001b[0m stmt \u001b[38;5;241m=\u001b[39m \u001b[38;5;28;43mself\u001b[39;49m\u001b[38;5;241;43m.\u001b[39;49m\u001b[43m_batch_insert\u001b[49m\u001b[43m(\u001b[49m\u001b[43moperation\u001b[49m\u001b[43m,\u001b[49m\u001b[43m \u001b[49m\u001b[43mseq_params\u001b[49m\u001b[43m)\u001b[49m\n\u001b[0;32m    499\u001b[0m \u001b[38;5;28;01mif\u001b[39;00m stmt \u001b[38;5;129;01mis\u001b[39;00m \u001b[38;5;129;01mnot\u001b[39;00m \u001b[38;5;28;01mNone\u001b[39;00m:\n\u001b[0;32m    500\u001b[0m     \u001b[38;5;28mself\u001b[39m\u001b[38;5;241m.\u001b[39m_executed \u001b[38;5;241m=\u001b[39m stmt\n",
      "File \u001b[1;32mc:\\ProgramData\\anaconda3\\envs\\database\\Lib\\site-packages\\mysql\\connector\\cursor_cext.py:452\u001b[0m, in \u001b[0;36mCMySQLCursor._batch_insert\u001b[1;34m(self, operation, seq_params)\u001b[0m\n\u001b[0;32m    450\u001b[0m     \u001b[38;5;28;01mraise\u001b[39;00m ProgrammingError(\u001b[38;5;28mstr\u001b[39m(err)) \u001b[38;5;28;01mfrom\u001b[39;00m \u001b[38;5;21;01merr\u001b[39;00m\n\u001b[0;32m    451\u001b[0m \u001b[38;5;28;01mexcept\u001b[39;00m \u001b[38;5;167;01mException\u001b[39;00m \u001b[38;5;28;01mas\u001b[39;00m err:\n\u001b[1;32m--> 452\u001b[0m     \u001b[38;5;28;01mraise\u001b[39;00m InterfaceError(\u001b[38;5;124mf\u001b[39m\u001b[38;5;124m\"\u001b[39m\u001b[38;5;124mFailed executing the operation; \u001b[39m\u001b[38;5;132;01m{\u001b[39;00merr\u001b[38;5;132;01m}\u001b[39;00m\u001b[38;5;124m\"\u001b[39m) \u001b[38;5;28;01mfrom\u001b[39;00m \u001b[38;5;28;01mNone\u001b[39;00m\n",
      "\u001b[1;31mInterfaceError\u001b[0m: Failed executing the operation; Could not process parameters: str(Chirag), it must be of type list, tuple or dict"
     ]
    }
   ],
   "source": [
    "query = \"INSERT INTO studentinfo (name, subject) VALUES(%s, %s)\"\n",
    "values = [(\"Chirag\",\"Stats\"),\n",
    "          (\"John\", \"Stats\"),\n",
    "          (\"Anagh\", \"Physics\"),\n",
    "          (\"Priyanshu\",\"Calculas\"),\n",
    "          (\"Shubham\", \"English\")]\n",
    "\n",
    "cursor.executemany(query, value)\n",
    "print(\"Row Inserted\", cursor.lastword)"
   ]
  },
  {
   "cell_type": "code",
   "execution_count": null,
   "id": "17082cd3-0c39-49ba-b831-b27f2d82202e",
   "metadata": {},
   "outputs": [],
   "source": []
  }
 ],
 "metadata": {
  "kernelspec": {
   "display_name": "Python 3 (ipykernel)",
   "language": "python",
   "name": "python3"
  },
  "language_info": {
   "codemirror_mode": {
    "name": "ipython",
    "version": 3
   },
   "file_extension": ".py",
   "mimetype": "text/x-python",
   "name": "python",
   "nbconvert_exporter": "python",
   "pygments_lexer": "ipython3",
   "version": "3.12.2"
  }
 },
 "nbformat": 4,
 "nbformat_minor": 5
}
