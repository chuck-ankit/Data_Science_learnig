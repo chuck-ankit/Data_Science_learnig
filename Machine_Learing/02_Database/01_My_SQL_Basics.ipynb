{
 "cells": [
  {
   "cell_type": "code",
   "execution_count": 1,
   "id": "99f6b247-b861-4413-bd7e-150cb349ce11",
   "metadata": {
    "scrolled": true
   },
   "outputs": [
    {
     "name": "stdout",
     "output_type": "stream",
     "text": [
      "# conda environments:\n",
      "#\n",
      "base                     C:\\ProgramData\\anaconda3\n",
      "Bansal                   C:\\ProgramData\\anaconda3\\envs\\Bansal\n",
      "SuperEnv                 C:\\ProgramData\\anaconda3\\envs\\SuperEnv\n",
      "database              *  C:\\ProgramData\\anaconda3\\envs\\database\n",
      "nameZa                   C:\\ProgramData\\anaconda3\\envs\\nameZa\n",
      "tf                       C:\\ProgramData\\anaconda3\\envs\\tf\n",
      "database                 c:\\ProgramData\\anaconda3\\envs\\database\n",
      "nameZa                   c:\\ProgramData\\anaconda3\\envs\\nameZa\n",
      "\n"
     ]
    }
   ],
   "source": [
    "!conda info --envs"
   ]
  },
  {
   "cell_type": "markdown",
   "id": "e04c42f7-86bb-45b9-a4b9-9b3597e66745",
   "metadata": {},
   "source": [
    "<b> Creating Databases in SQL"
   ]
  },
  {
   "cell_type": "code",
   "execution_count": 2,
   "id": "5b4b5de0-5ea6-4c35-b193-4350495864db",
   "metadata": {},
   "outputs": [
    {
     "name": "stdout",
     "output_type": "stream",
     "text": [
      "<mysql.connector.connection_cext.CMySQLConnection object at 0x0000020056889D00>\n"
     ]
    }
   ],
   "source": [
    "#### Create MySQL Connections\n",
    "\n",
    "import mysql.connector as sql\n",
    "\n",
    "connection = sql.connect(\n",
    "    host = \"localhost\",\n",
    "    user = \"ankit\",\n",
    "    password = \"12345\"\n",
    ")\n",
    "print(connection)"
   ]
  },
  {
   "cell_type": "markdown",
   "id": "c01ff570-dd5b-4174-84ae-238ba4080494",
   "metadata": {},
   "source": [
    "<b> Creating Database"
   ]
  },
  {
   "cell_type": "code",
   "execution_count": 3,
   "id": "81989e6d-ca02-41e8-86ac-e8c177a45939",
   "metadata": {},
   "outputs": [],
   "source": [
    "cursor = connection.cursor()\n",
    "\n",
    "# cursor.execute(\"CREATE DATABASE NewServer\")"
   ]
  },
  {
   "cell_type": "code",
   "execution_count": 4,
   "id": "dea8fee1-7ec5-4025-84fa-a70db4216d57",
   "metadata": {},
   "outputs": [],
   "source": [
    "cursor.execute(\"SHOW DATABASES\")"
   ]
  },
  {
   "cell_type": "code",
   "execution_count": 5,
   "id": "e49c007f-add8-4031-8492-5b9817526865",
   "metadata": {},
   "outputs": [
    {
     "name": "stdout",
     "output_type": "stream",
     "text": [
      "('advaid',)\n",
      "('information_schema',)\n",
      "('mysql',)\n",
      "('newserver',)\n",
      "('performance_schema',)\n",
      "('sakila',)\n",
      "('sys',)\n",
      "('world',)\n"
     ]
    }
   ],
   "source": [
    "for x in cursor:\n",
    "    print(x)"
   ]
  },
  {
   "cell_type": "markdown",
   "id": "f9059355-1ef9-427e-b8ae-2fc4b0e657a3",
   "metadata": {},
   "source": [
    "<b> Connecting Jupyter Notebook to a database"
   ]
  },
  {
   "cell_type": "code",
   "execution_count": 6,
   "id": "f6bc0ca9-cc9f-4817-9c1d-2ed01cc52d4a",
   "metadata": {},
   "outputs": [
    {
     "name": "stdout",
     "output_type": "stream",
     "text": [
      "<mysql.connector.connection_cext.CMySQLConnection object at 0x00000200568AA2D0>\n"
     ]
    }
   ],
   "source": [
    "connection = sql.connect(\n",
    "    host = \"localhost\",\n",
    "    user = \"ankit\",\n",
    "    password = \"12345\",\n",
    "    database = \"NewServer\"\n",
    ")\n",
    "print(connection)"
   ]
  },
  {
   "cell_type": "markdown",
   "id": "417cac47-37d2-44c7-991d-d0b76d97008e",
   "metadata": {},
   "source": [
    "<b>Creating Table in MySQL"
   ]
  },
  {
   "cell_type": "code",
   "execution_count": 7,
   "id": "ee1b92ca-7efb-4dd5-99e8-626618e10682",
   "metadata": {},
   "outputs": [],
   "source": [
    "cursor = connection.cursor()\n",
    "\n",
    "cursor.execute(\"CREATE TABLE studentinfo (id INT AUTO_INCREMENT PRIMARY KEY, name VARCHAR(255), subject VARCHAR(255))\")\n"
   ]
  },
  {
   "cell_type": "code",
   "execution_count": 8,
   "id": "31a93a1d-752b-4720-bc9d-1410d58712ed",
   "metadata": {},
   "outputs": [
    {
     "name": "stdout",
     "output_type": "stream",
     "text": [
      "Row inserterd 1\n"
     ]
    }
   ],
   "source": [
    "query = \"INSERT INTO studentinfo (name, subject) VALUES(%s, %s)\"\n",
    "value = (\"Chirag\", \"Stats\")\n",
    "cursor.execute(query, value)\n",
    "print(\"Row inserterd\", cursor.lastrowid)"
   ]
  },
  {
   "cell_type": "code",
   "execution_count": 9,
   "id": "6a09ff7c-c749-4e9f-b42c-59008f9e0779",
   "metadata": {},
   "outputs": [
    {
     "name": "stdout",
     "output_type": "stream",
     "text": [
      "Row Inserted 2\n"
     ]
    }
   ],
   "source": [
    "query = \"INSERT INTO studentinfo (name, subject) VALUES(%s, %s)\"\n",
    "values = [(\"Chirag\",\"Stats\"),\n",
    "          (\"John\", \"Stats\"),\n",
    "          (\"Anagh\", \"Physics\"),\n",
    "          (\"Priyanshu\",\"Calculas\"),\n",
    "          (\"Shubham\", \"English\")]\n",
    "\n",
    "cursor.executemany(query, values)\n",
    "print(\"Row Inserted\", cursor.lastrowid)"
   ]
  },
  {
   "cell_type": "markdown",
   "id": "cdb20672-542f-428a-8b08-472d2536c825",
   "metadata": {},
   "source": [
    "<b>SELECT ALL"
   ]
  },
  {
   "cell_type": "code",
   "execution_count": 10,
   "id": "e03276ed-f4d4-49bc-a5c2-df7891b6f975",
   "metadata": {},
   "outputs": [],
   "source": [
    "cursor = connection.cursor()\n",
    "cursor.execute(\"Select * from studentinfo\")"
   ]
  },
  {
   "cell_type": "code",
   "execution_count": 11,
   "id": "845b3d4c-5408-43ef-886b-740d6e2eb4d5",
   "metadata": {},
   "outputs": [
    {
     "data": {
      "text/plain": [
       "[(1, 'Chirag', 'Stats'),\n",
       " (2, 'Chirag', 'Stats'),\n",
       " (3, 'John', 'Stats'),\n",
       " (4, 'Anagh', 'Physics'),\n",
       " (5, 'Priyanshu', 'Calculas'),\n",
       " (6, 'Shubham', 'English')]"
      ]
     },
     "execution_count": 11,
     "metadata": {},
     "output_type": "execute_result"
    }
   ],
   "source": [
    "#Fetch all from the Data \n",
    "\n",
    "cursor.fetchall()"
   ]
  },
  {
   "cell_type": "markdown",
   "id": "bd45cd1c-59dc-4091-a91c-c927f0df267d",
   "metadata": {},
   "source": [
    "<b>Selecting particular Rows"
   ]
  },
  {
   "cell_type": "code",
   "execution_count": 12,
   "id": "4cb6609a-c397-4643-8158-949231c1be52",
   "metadata": {},
   "outputs": [],
   "source": [
    "cursor.execute(\"Select * from studentinfo where name='Chirag'\")"
   ]
  },
  {
   "cell_type": "code",
   "execution_count": 13,
   "id": "e11f37dc-72ff-4c6a-b283-ce64ed4544de",
   "metadata": {},
   "outputs": [
    {
     "data": {
      "text/plain": [
       "[(1, 'Chirag', 'Stats'), (2, 'Chirag', 'Stats')]"
      ]
     },
     "execution_count": 13,
     "metadata": {},
     "output_type": "execute_result"
    }
   ],
   "source": [
    "#Feting all the data\n",
    "cursor.fetchall()"
   ]
  },
  {
   "cell_type": "markdown",
   "id": "2e38a8e5-2901-4c2c-8ef3-a33ade1c3d29",
   "metadata": {},
   "source": [
    "<b>Selecting Particular Columns"
   ]
  },
  {
   "cell_type": "code",
   "execution_count": 14,
   "id": "598c8293-2b00-451e-a6ec-16710c04bb8e",
   "metadata": {},
   "outputs": [
    {
     "data": {
      "text/plain": [
       "[('Stats',), ('Stats',), ('Stats',), ('Physics',), ('Calculas',), ('English',)]"
      ]
     },
     "execution_count": 14,
     "metadata": {},
     "output_type": "execute_result"
    }
   ],
   "source": [
    "cursor.execute(\"Select subject from studentinfo\")\n",
    "#Fetch all\n",
    "cursor.fetchall()"
   ]
  },
  {
   "cell_type": "code",
   "execution_count": 15,
   "id": "944f697b-5f78-4142-b7a8-cb18a675c7b8",
   "metadata": {},
   "outputs": [
    {
     "data": {
      "text/plain": [
       "[('Stats',), ('Physics',), ('Calculas',), ('English',)]"
      ]
     },
     "execution_count": 15,
     "metadata": {},
     "output_type": "execute_result"
    }
   ],
   "source": [
    "##Selectinging all distict Columns\n",
    "cursor.execute(\"SELECT DISTINCT subject from studentinfo\")\n",
    "#Fetch All\n",
    "cursor.fetchall()"
   ]
  },
  {
   "cell_type": "markdown",
   "id": "52d2c0f2-c6d5-4d81-adf1-37636f0c25d2",
   "metadata": {},
   "source": [
    "<b> Drop Table"
   ]
  },
  {
   "cell_type": "code",
   "execution_count": 16,
   "id": "57ba9ea4-d75b-489c-9d37-a469116cd97f",
   "metadata": {},
   "outputs": [],
   "source": [
    "cursor.execute(\"DROP TABLE studentinfo\")"
   ]
  },
  {
   "cell_type": "code",
   "execution_count": null,
   "id": "6b5a0ad4-94f6-46fe-a356-84322043582a",
   "metadata": {},
   "outputs": [],
   "source": []
  }
 ],
 "metadata": {
  "kernelspec": {
   "display_name": "Python 3 (ipykernel)",
   "language": "python",
   "name": "python3"
  },
  "language_info": {
   "codemirror_mode": {
    "name": "ipython",
    "version": 3
   },
   "file_extension": ".py",
   "mimetype": "text/x-python",
   "name": "python",
   "nbconvert_exporter": "python",
   "pygments_lexer": "ipython3",
   "version": "3.12.2"
  }
 },
 "nbformat": 4,
 "nbformat_minor": 5
}
